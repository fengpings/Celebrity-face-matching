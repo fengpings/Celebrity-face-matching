{
 "cells": [
  {
   "cell_type": "code",
   "execution_count": 1,
   "id": "705c0a08-ea4c-430e-9c2c-8d4838a9ffcf",
   "metadata": {},
   "outputs": [],
   "source": [
    "import cv2\n",
    "import numpy as np\n",
    "import matplotlib.pyplot as plt\n",
    "from lffd_detect_module import lffdface\n",
    "from dbface_detect_align_module import dbface_detect as dbface\n",
    "from centerface_detect_align_module import centerface\n",
    "import torch\n",
    "import os\n",
    "from tqdm import tqdm"
   ]
  },
  {
   "cell_type": "code",
   "execution_count": 2,
   "id": "995b4edf-f750-4c93-93bc-745cee0402a3",
   "metadata": {},
   "outputs": [],
   "source": [
    "lffdface_detect = lffdface(version=1)\n",
    "dbface_detect = dbface(net_type='dbface',device='cuda', align=False)\n",
    "dbface_align = dbface(net_type='dbface',device='cuda', align=True)\n",
    "# centerface_detect = centerface(align=True)"
   ]
  },
  {
   "cell_type": "code",
   "execution_count": 3,
   "id": "4fb6fb44-b339-4f41-bf78-16ccec8b68bb",
   "metadata": {},
   "outputs": [],
   "source": [
    "save_dir = './research_data/test_pin_dataset/'\n",
    "detected_save_dir = './research_data/dbface_detected/'\n",
    "pins_dir = './research_data/105_classes_pins_dataset/'\n",
    "# pins_dir = './research_data/dbface_detected/'\n",
    "classes = os.listdir(pins_dir)"
   ]
  },
  {
   "cell_type": "code",
   "execution_count": 4,
   "id": "1f3dc82d-08bd-489e-bc28-7f4daee4370a",
   "metadata": {},
   "outputs": [],
   "source": [
    "from collections import OrderedDict\n",
    "celeb_dict = OrderedDict()\n",
    "for celeb in classes:\n",
    "    celeb_dict[celeb] = os.listdir(pins_dir+celeb+'/')"
   ]
  },
  {
   "cell_type": "code",
   "execution_count": 5,
   "id": "6b79dea2-b7d0-46ef-8fa0-24e09828005a",
   "metadata": {},
   "outputs": [],
   "source": [
    "count, count1 = 0,0"
   ]
  },
  {
   "cell_type": "code",
   "execution_count": 6,
   "id": "68c4bb22-0d59-41a3-b20a-9bc5f910e10d",
   "metadata": {
    "tags": []
   },
   "outputs": [
    {
     "name": "stderr",
     "output_type": "stream",
     "text": [
      "100%|████████████████████████████████████████████████████████████████████████████████| 105/105 [05:58<00:00,  3.42s/it]"
     ]
    },
    {
     "name": "stdout",
     "output_type": "stream",
     "text": [
      "17530\n",
      "0\n"
     ]
    },
    {
     "name": "stderr",
     "output_type": "stream",
     "text": [
      "\n"
     ]
    }
   ],
   "source": [
    "for celeb, imgs in tqdm(celeb_dict.items()):\n",
    "    for img in imgs:\n",
    "        img_path = pins_dir + celeb + '/' + img\n",
    "        image = cv2.imread(img_path)\n",
    "        # _, face = lffdface_detect.detect(image)\n",
    "        # if len(face) == 0:\n",
    "        #     continue\n",
    "        # count1 += 1\n",
    "        # save_path = './research_data/detected_pin/' + celeb + '/'\n",
    "        # if not os.path.isdir(save_path):\n",
    "        #     os.makedirs(save_path)\n",
    "        # save_file = save_path + img\n",
    "        # cv2.imwrite(save_file, face[0])\n",
    "        _, aligned_face = dbface_align.detect(image)\n",
    "        if len(aligned_face) == 0:\n",
    "            continue\n",
    "        save_path = save_dir + celeb + '/'\n",
    "        if not os.path.isdir(save_path):\n",
    "            os.makedirs(save_path)\n",
    "        save_file = save_path + img\n",
    "        cv2.imwrite(save_file, aligned_face[0])\n",
    "        count += 1\n",
    "print(count)\n",
    "print(count1)"
   ]
  },
  {
   "cell_type": "code",
   "execution_count": 9,
   "id": "5b64f901-8d07-4a37-9d30-9f4b7aff4984",
   "metadata": {
    "tags": []
   },
   "outputs": [
    {
     "name": "stderr",
     "output_type": "stream",
     "text": [
      "100%|████████████████████████████████████████████████████████████████████████████████| 105/105 [06:44<00:00,  3.85s/it]"
     ]
    },
    {
     "name": "stdout",
     "output_type": "stream",
     "text": [
      "17530\n",
      "0\n"
     ]
    },
    {
     "name": "stderr",
     "output_type": "stream",
     "text": [
      "\n"
     ]
    }
   ],
   "source": [
    "count, count1 = 0 ,0\n",
    "for celeb, imgs in tqdm(celeb_dict.items()):\n",
    "    for img in imgs:\n",
    "        img_path = pins_dir + celeb + '/' + img\n",
    "        image = cv2.imread(img_path)\n",
    "        # _, face = lffdface_detect.detect(image)\n",
    "        # if len(face) == 0:\n",
    "        #     continue\n",
    "        # count1 += 1\n",
    "        # save_path = './research_data/detected_pin/' + celeb + '/'\n",
    "        # if not os.path.isdir(save_path):\n",
    "        #     os.makedirs(save_path)\n",
    "        # save_file = save_path + img\n",
    "        # cv2.imwrite(save_file, face[0])\n",
    "        _, face = dbface_detect.detect(image)\n",
    "        if len(face) == 0:\n",
    "            continue\n",
    "        # print(face[0])\n",
    "        save_path = detected_save_dir + celeb + '/'\n",
    "        if not os.path.isdir(save_path):\n",
    "            os.makedirs(save_path)\n",
    "        save_file = save_path + img\n",
    "        cv2.imwrite(save_file, face[0])\n",
    "        count += 1\n",
    "print(count)\n",
    "print(count1)"
   ]
  },
  {
   "cell_type": "code",
   "execution_count": 3,
   "id": "d1b3de1a-9c60-4708-8def-5eb58c9c087d",
   "metadata": {},
   "outputs": [
    {
     "name": "stdout",
     "output_type": "stream",
     "text": [
      "[1.5 2.5 3.5]\n"
     ]
    }
   ],
   "source": [
    "a = np.array([1,2,3])\n",
    "b = np.array([2,3,4])\n",
    "print((a+b)/2)"
   ]
  },
  {
   "cell_type": "code",
   "execution_count": 5,
   "id": "ffd0206d-f37e-4a18-bae7-577f000e2e82",
   "metadata": {},
   "outputs": [
    {
     "data": {
      "text/plain": [
       "array([3, 5, 7])"
      ]
     },
     "execution_count": 5,
     "metadata": {},
     "output_type": "execute_result"
    }
   ],
   "source": [
    "np.sum([a,b],axis=0)"
   ]
  },
  {
   "cell_type": "code",
   "execution_count": null,
   "id": "398a856a-5313-4f7e-99a1-e006c06beddc",
   "metadata": {},
   "outputs": [],
   "source": [
    "import"
   ]
  }
 ],
 "metadata": {
  "kernelspec": {
   "display_name": "Pytorch",
   "language": "python",
   "name": "pytorch"
  },
  "language_info": {
   "codemirror_mode": {
    "name": "ipython",
    "version": 3
   },
   "file_extension": ".py",
   "mimetype": "text/x-python",
   "name": "python",
   "nbconvert_exporter": "python",
   "pygments_lexer": "ipython3",
   "version": "3.8.12"
  }
 },
 "nbformat": 4,
 "nbformat_minor": 5
}
