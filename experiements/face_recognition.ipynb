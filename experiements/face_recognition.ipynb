{
 "cells": [
  {
   "cell_type": "code",
   "execution_count": 1,
   "id": "b6e78334-52e7-4acd-beb8-c700f53d9c60",
   "metadata": {},
   "outputs": [
    {
     "ename": "RuntimeError",
     "evalue": "module compiled against API version 0xf but this version of numpy is 0xe",
     "output_type": "error",
     "traceback": [
      "\u001b[1;31m---------------------------------------------------------------------------\u001b[0m",
      "\u001b[1;31mRuntimeError\u001b[0m                              Traceback (most recent call last)",
      "\u001b[1;31mRuntimeError\u001b[0m: module compiled against API version 0xf but this version of numpy is 0xe"
     ]
    },
    {
     "ename": "SystemError",
     "evalue": "<built-in function __import__> returned a result with an error set",
     "output_type": "error",
     "traceback": [
      "\u001b[1;31m---------------------------------------------------------------------------\u001b[0m",
      "\u001b[1;31mImportError\u001b[0m                               Traceback (most recent call last)",
      "\u001b[1;31mImportError\u001b[0m: numpy.core.multiarray failed to import",
      "\nThe above exception was the direct cause of the following exception:\n",
      "\u001b[1;31mSystemError\u001b[0m                               Traceback (most recent call last)",
      "\u001b[1;31mSystemError\u001b[0m: <built-in function __import__> returned a result with an error set"
     ]
    }
   ],
   "source": [
    "import cv2\n",
    "import numpy as np\n",
    "import insightface\n",
    "from insightface.app import FaceAnalysis\n",
    "from insightface.data import get_image as ins_get_image\n",
    "import pickle\n",
    "from tqdm import tqdm\n",
    "import onnx\n",
    "import onnxruntime\n",
    "import os\n",
    "from collections import OrderedDict\n",
    "from sklearn.preprocessing import LabelEncoder\n",
    "from sklearn.model_selection import train_test_split\n",
    "from sklearn.neighbors import KNeighborsClassifier as KNN\n",
    "from sklearn.preprocessing import normalize\n",
    "import time\n",
    "import matplotlib.pyplot as plt\n",
    "from sklearn.manifold import TSNE\n",
    "from matplotlib import cm"
   ]
  },
  {
   "cell_type": "markdown",
   "id": "b3af23c1-9400-4180-8bf8-7b9ee1cbe6af",
   "metadata": {
    "jp-MarkdownHeadingCollapsed": true,
    "tags": []
   },
   "source": [
    "#### SphereFace"
   ]
  },
  {
   "cell_type": "code",
   "execution_count": 3,
   "id": "6a5430ed-5744-40ed-859e-f9ebfbc2cc8c",
   "metadata": {
    "tags": []
   },
   "outputs": [],
   "source": [
    "import torch\n",
    "import torch.nn as nn\n",
    "from torch.autograd import Variable\n",
    "import torch.nn.functional as F\n",
    "from torch.nn import Parameter\n",
    "import math\n",
    "\n",
    "def myphi(x,m):\n",
    "    x = x * m\n",
    "    return 1-x**2/math.factorial(2)+x**4/math.factorial(4)-x**6/math.factorial(6) + \\\n",
    "            x**8/math.factorial(8) - x**9/math.factorial(9)\n",
    "\n",
    "class AngleLinear(nn.Module):\n",
    "    def __init__(self, in_features, out_features, m = 4, phiflag=True):\n",
    "        super(AngleLinear, self).__init__()\n",
    "        self.in_features = in_features\n",
    "        self.out_features = out_features\n",
    "        self.weight = Parameter(torch.Tensor(in_features,out_features))\n",
    "        self.weight.data.uniform_(-1, 1).renorm_(2,1,1e-5).mul_(1e5)\n",
    "        self.phiflag = phiflag\n",
    "        self.m = m\n",
    "        self.mlambda = [\n",
    "            lambda x: x**0,\n",
    "            lambda x: x**1,\n",
    "            lambda x: 2*x**2-1,\n",
    "            lambda x: 4*x**3-3*x,\n",
    "            lambda x: 8*x**4-8*x**2+1,\n",
    "            lambda x: 16*x**5-20*x**3+5*x\n",
    "        ]\n",
    "\n",
    "    def forward(self, input):\n",
    "        x = input   # size=(B,F)    F is feature len\n",
    "        w = self.weight # size=(F,Classnum) F=in_features Classnum=out_features\n",
    "\n",
    "        ww = w.renorm(2,1,1e-5).mul(1e5)\n",
    "        xlen = x.pow(2).sum(1).pow(0.5) # size=B\n",
    "        wlen = ww.pow(2).sum(0).pow(0.5) # size=Classnum\n",
    "\n",
    "        cos_theta = x.mm(ww) # size=(B,Classnum)\n",
    "        cos_theta = cos_theta / xlen.view(-1,1) / wlen.view(1,-1)\n",
    "        cos_theta = cos_theta.clamp(-1,1)\n",
    "\n",
    "        if self.phiflag:\n",
    "            cos_m_theta = self.mlambda[self.m](cos_theta)\n",
    "            theta = Variable(cos_theta.data.acos())\n",
    "            k = (self.m*theta/3.14159265).floor()\n",
    "            n_one = k*0.0 - 1\n",
    "            phi_theta = (n_one**k) * cos_m_theta - 2*k\n",
    "        else:\n",
    "            theta = cos_theta.acos()\n",
    "            phi_theta = myphi(theta,self.m)\n",
    "            phi_theta = phi_theta.clamp(-1*self.m,1)\n",
    "\n",
    "        cos_theta = cos_theta * xlen.view(-1,1)\n",
    "        phi_theta = phi_theta * xlen.view(-1,1)\n",
    "        output = (cos_theta,phi_theta)\n",
    "        return output # size=(B,Classnum,2)\n",
    "\n",
    "\n",
    "class AngleLoss(nn.Module):\n",
    "    def __init__(self, gamma=0):\n",
    "        super(AngleLoss, self).__init__()\n",
    "        self.gamma   = gamma\n",
    "        self.it = 0\n",
    "        self.LambdaMin = 5.0\n",
    "        self.LambdaMax = 1500.0\n",
    "        self.lamb = 1500.0\n",
    "\n",
    "    def forward(self, input, target):\n",
    "        self.it += 1\n",
    "        cos_theta,phi_theta = input\n",
    "        target = target.view(-1,1) #size=(B,1)\n",
    "\n",
    "        index = cos_theta.data * 0.0 #size=(B,Classnum)\n",
    "        index.scatter_(1,target.data.view(-1,1),1)\n",
    "        index = index.byte()\n",
    "        index = Variable(index)\n",
    "\n",
    "        self.lamb = max(self.LambdaMin,self.LambdaMax/(1+0.1*self.it ))\n",
    "        output = cos_theta * 1.0 #size=(B,Classnum)\n",
    "        output[index] -= cos_theta[index]*(1.0+0)/(1+self.lamb)\n",
    "        output[index] += phi_theta[index]*(1.0+0)/(1+self.lamb)\n",
    "\n",
    "        logpt = F.log_softmax(output)\n",
    "        logpt = logpt.gather(1,target)\n",
    "        logpt = logpt.view(-1)\n",
    "        pt = Variable(logpt.data.exp())\n",
    "\n",
    "        loss = -1 * (1-pt)**self.gamma * logpt\n",
    "        loss = loss.mean()\n",
    "\n",
    "        return loss\n",
    "\n",
    "\n",
    "class sphere(nn.Module):\n",
    "    def __init__(self,classnum=10574,feature=False):\n",
    "        super(sphere, self).__init__()\n",
    "        self.classnum = classnum\n",
    "        self.feature = feature\n",
    "        #input = B*3*112*96\n",
    "        self.conv1_1 = nn.Conv2d(3,64,3,2,1) #=>B*64*56*48\n",
    "        self.relu1_1 = nn.PReLU(64)\n",
    "        self.conv1_2 = nn.Conv2d(64,64,3,1,1)\n",
    "        self.relu1_2 = nn.PReLU(64)\n",
    "        self.conv1_3 = nn.Conv2d(64,64,3,1,1)\n",
    "        self.relu1_3 = nn.PReLU(64)\n",
    "\n",
    "        self.conv2_1 = nn.Conv2d(64,128,3,2,1) #=>B*128*28*24\n",
    "        self.relu2_1 = nn.PReLU(128)\n",
    "        self.conv2_2 = nn.Conv2d(128,128,3,1,1)\n",
    "        self.relu2_2 = nn.PReLU(128)\n",
    "        self.conv2_3 = nn.Conv2d(128,128,3,1,1)\n",
    "        self.relu2_3 = nn.PReLU(128)\n",
    "\n",
    "        self.conv2_4 = nn.Conv2d(128,128,3,1,1) #=>B*128*28*24\n",
    "        self.relu2_4 = nn.PReLU(128)\n",
    "        self.conv2_5 = nn.Conv2d(128,128,3,1,1)\n",
    "        self.relu2_5 = nn.PReLU(128)\n",
    "\n",
    "\n",
    "        self.conv3_1 = nn.Conv2d(128,256,3,2,1) #=>B*256*14*12\n",
    "        self.relu3_1 = nn.PReLU(256)\n",
    "        self.conv3_2 = nn.Conv2d(256,256,3,1,1)\n",
    "        self.relu3_2 = nn.PReLU(256)\n",
    "        self.conv3_3 = nn.Conv2d(256,256,3,1,1)\n",
    "        self.relu3_3 = nn.PReLU(256)\n",
    "\n",
    "        self.conv3_4 = nn.Conv2d(256,256,3,1,1) #=>B*256*14*12\n",
    "        self.relu3_4 = nn.PReLU(256)\n",
    "        self.conv3_5 = nn.Conv2d(256,256,3,1,1)\n",
    "        self.relu3_5 = nn.PReLU(256)\n",
    "\n",
    "        self.conv3_6 = nn.Conv2d(256,256,3,1,1) #=>B*256*14*12\n",
    "        self.relu3_6 = nn.PReLU(256)\n",
    "        self.conv3_7 = nn.Conv2d(256,256,3,1,1)\n",
    "        self.relu3_7 = nn.PReLU(256)\n",
    "\n",
    "        self.conv3_8 = nn.Conv2d(256,256,3,1,1) #=>B*256*14*12\n",
    "        self.relu3_8 = nn.PReLU(256)\n",
    "        self.conv3_9 = nn.Conv2d(256,256,3,1,1)\n",
    "        self.relu3_9 = nn.PReLU(256)\n",
    "\n",
    "        self.conv4_1 = nn.Conv2d(256,512,3,2,1) #=>B*512*7*6\n",
    "        self.relu4_1 = nn.PReLU(512)\n",
    "        self.conv4_2 = nn.Conv2d(512,512,3,1,1)\n",
    "        self.relu4_2 = nn.PReLU(512)\n",
    "        self.conv4_3 = nn.Conv2d(512,512,3,1,1)\n",
    "        self.relu4_3 = nn.PReLU(512)\n",
    "\n",
    "        self.fc5 = nn.Linear(512*7*6,512)\n",
    "        self.fc6 = AngleLinear(512,self.classnum)\n",
    "\n",
    "\n",
    "    def forward(self, x):\n",
    "        x = self.relu1_1(self.conv1_1(x))\n",
    "        x = x + self.relu1_3(self.conv1_3(self.relu1_2(self.conv1_2(x))))\n",
    "\n",
    "        x = self.relu2_1(self.conv2_1(x))\n",
    "        x = x + self.relu2_3(self.conv2_3(self.relu2_2(self.conv2_2(x))))\n",
    "        x = x + self.relu2_5(self.conv2_5(self.relu2_4(self.conv2_4(x))))\n",
    "\n",
    "        x = self.relu3_1(self.conv3_1(x))\n",
    "        x = x + self.relu3_3(self.conv3_3(self.relu3_2(self.conv3_2(x))))\n",
    "        x = x + self.relu3_5(self.conv3_5(self.relu3_4(self.conv3_4(x))))\n",
    "        x = x + self.relu3_7(self.conv3_7(self.relu3_6(self.conv3_6(x))))\n",
    "        x = x + self.relu3_9(self.conv3_9(self.relu3_8(self.conv3_8(x))))\n",
    "\n",
    "        x = self.relu4_1(self.conv4_1(x))\n",
    "        x = x + self.relu4_3(self.conv4_3(self.relu4_2(self.conv4_2(x))))\n",
    "\n",
    "        x = x.view(x.size(0),-1)\n",
    "        x = self.fc5(x)\n",
    "        if self.feature: return x\n",
    "\n",
    "        x = self.fc6(x)\n",
    "        return x\n"
   ]
  },
  {
   "cell_type": "markdown",
   "id": "0939d594-905c-4dae-9f37-1995aa4e22aa",
   "metadata": {
    "tags": []
   },
   "source": [
    "### Utilities"
   ]
  },
  {
   "cell_type": "code",
   "execution_count": 4,
   "id": "4cda24aa-bfc4-4813-bee9-c465b8905fbd",
   "metadata": {},
   "outputs": [],
   "source": [
    "def performance(f):\n",
    "    def fn(*args, **kw):\n",
    "        t1 = time.time()\n",
    "        r = f(*args, **kw)\n",
    "        t2 = time.time()\n",
    "        print('call {} in {}s'.format(f.__name__, (t2-t1)))\n",
    "        return r\n",
    "    return fn\n",
    "\n",
    "\n",
    "@performance\n",
    "def generate_images_classes(path):\n",
    "    classes = os.listdir(path)\n",
    "    celeb_dict = OrderedDict()\n",
    "    for celeb in classes:\n",
    "        celeb_dict[celeb] = os.listdir(path+celeb+'/')\n",
    "    return celeb_dict\n",
    "\n",
    "\n",
    "def compute_cos_sim(emb1, emb2):\n",
    "    sim = np.dot(emb1, emb2) / (np.linalg.norm(emb1) * np.linalg.norm(emb2))\n",
    "    return sim\n",
    "\n",
    "\n",
    "@performance\n",
    "def calculate_rec_acc(X, y, mean_X, mean_y):\n",
    "    correct = 0\n",
    "    total = len(X)\n",
    "    for i in tqdm(range(len(X))):\n",
    "        max_sim = -1\n",
    "        max_index = -1\n",
    "        for j in range(len(mean_X)):\n",
    "            sim = compute_cos_sim(X[i], mean_X[j])\n",
    "            if sim > max_sim:\n",
    "                max_sim = sim\n",
    "                max_index = j\n",
    "        if mean_y[max_index] == y[i]:\n",
    "            correct += 1\n",
    "    return correct/total\n",
    "\n",
    "\n",
    "@performance\n",
    "def generate_image_embeddings(model, celeb_dict):\n",
    "    handler = insightface.model_zoo.get_model(model,\n",
    "                                              providers=['CPUExecutionProvider'])\n",
    "    handler.prepare(ctx_id=0)\n",
    "    embedding_dict = OrderedDict()\n",
    "    image_dict = {}\n",
    "    for celeb, imgs in tqdm(celeb_dict.items()):\n",
    "        if celeb not in embedding_dict:\n",
    "            embedding_dict[celeb] = []\n",
    "            image_dict[celeb] = []\n",
    "        for img in imgs:\n",
    "            img_path = aligned_pins + celeb + '/' + img\n",
    "            image = cv2.imread(img_path)\n",
    "            try:\n",
    "                face_embedding = handler.get(image)\n",
    "            except:\n",
    "                continue\n",
    "            embedding_dict[celeb].append(face_embedding)\n",
    "            image_dict[celeb].append((img, face_embedding))\n",
    "    return embedding_dict, image_dict\n",
    "\n",
    "\n",
    "@performance\n",
    "def generate_image_embeddings_cuda(model, celeb_dict):\n",
    "    handler = insightface.model_zoo.get_model(model,\n",
    "                                              providers=['CUDAExecutionProvider'])\n",
    "    handler.prepare(ctx_id=0)\n",
    "    embedding_dict = OrderedDict()\n",
    "    image_dict = {}\n",
    "    for celeb, imgs in tqdm(celeb_dict.items()):\n",
    "        if celeb not in embedding_dict:\n",
    "            embedding_dict[celeb] = []\n",
    "            image_dict[celeb] = []\n",
    "        for img in imgs:\n",
    "            img_path = aligned_pins + celeb + '/' + img\n",
    "            image = cv2.imread(img_path)\n",
    "            try:\n",
    "                face_embedding = handler.get(image)\n",
    "            except:\n",
    "                continue\n",
    "            embedding_dict[celeb].append(face_embedding)\n",
    "            image_dict[celeb].append((img, face_embedding))\n",
    "    return embedding_dict, image_dict\n",
    "\n",
    "def sphere_generate_image_embeddings(model, celeb_dict):\n",
    "    # model.to('cuda')\n",
    "    model.eval()\n",
    "    with torch.no_grad():\n",
    "        embedding_dict = OrderedDict()\n",
    "        image_dict = {}\n",
    "        for celeb, imgs in tqdm(celeb_dict.items()):\n",
    "            if celeb not in embedding_dict:\n",
    "                embedding_dict[celeb] = []\n",
    "                image_dict[celeb] = []\n",
    "            for img in imgs:\n",
    "                img_path = aligned_pins + celeb + '/' + img\n",
    "                image = cv2.imread(img_path)\n",
    "#                 h, w = image.shape[:2]\n",
    "#                 pad_bottom, pad_right = 0, 0\n",
    "#                 ratio = w / h\n",
    "\n",
    "#                 if h > 112 or w > 96:\n",
    "#                     # shrinking image algorithm\n",
    "#                     interp = cv2.INTER_AREA\n",
    "#                 else:\n",
    "#                     # stretching image algorithm\n",
    "#                     interp = cv2.INTER_CUBIC\n",
    "\n",
    "#                 w = 96\n",
    "#                 h = round(w / ratio)\n",
    "#                 if h > 112:\n",
    "#                     h = 112\n",
    "#                     w = round(h * ratio)\n",
    "#                 pad_bottom = abs(112 - h)\n",
    "#                 pad_right = abs(96 - w)\n",
    "\n",
    "#                 scaled_img = cv2.resize(image, (w, h), interpolation=interp)\n",
    "#                 image = cv2.copyMakeBorder(\n",
    "#                     scaled_img,0,pad_bottom,0,pad_right,borderType=cv2.BORDER_CONSTANT,value=[0,0,0])\n",
    "\n",
    "#                 plt.imshow(image)\n",
    "#                 plt.show()\n",
    "#                 break\n",
    "                image = cv2.resize(image,(96,112))\n",
    "                image = image.astype(np.float32, copy=False)\n",
    "                image -= 127.5\n",
    "                image /= 127.5\n",
    "                tensor = np.zeros((3,112,96))\n",
    "                tensor[0] = image[:,:,0]\n",
    "                tensor[1] = image[:,:,1]\n",
    "                tensor[2] = image[:,:,2]\n",
    "                image = torch.tensor(tensor).unsqueeze(0).float()\n",
    "                # image = image.to('cuda')\n",
    "                face_embedding = model(image)\n",
    "                embedding_dict[celeb].append(face_embedding.cpu().squeeze().numpy())\n",
    "                image_dict[celeb].append((img, face_embedding))\n",
    "        return embedding_dict, image_dict\n",
    "\n",
    "\n",
    "@performance\n",
    "def calculate_mean_embeddings(emb_dict):\n",
    "    mean_emb_dict = OrderedDict()\n",
    "\n",
    "    for key in emb_dict:\n",
    "        n = len(emb_dict[key])\n",
    "        emb_sum = np.sum(emb_dict[key], axis=0)\n",
    "        mean_emb = emb_sum / n\n",
    "        mean_emb_dict[key] = mean_emb\n",
    "\n",
    "    return mean_emb_dict"
   ]
  },
  {
   "cell_type": "markdown",
   "id": "e67b0020-415a-4080-b182-69a594e2e870",
   "metadata": {
    "tags": []
   },
   "source": [
    "### Prepare models"
   ]
  },
  {
   "cell_type": "code",
   "execution_count": 5,
   "id": "abd1816e-f44b-4eb3-a832-20bbfe8edcdd",
   "metadata": {},
   "outputs": [
    {
     "name": "stdout",
     "output_type": "stream",
     "text": [
      "call generate_images_classes in 0.02001214027404785s\n",
      "call generate_images_classes in 0.018992900848388672s\n"
     ]
    }
   ],
   "source": [
    "models = ['w600k_mbf.onnx', 'w600k_r50.onnx', 'glintr100.onnx']\n",
    "pins = './research_data/105_classes_pins_dataset/'\n",
    "aligned_pins = './research_data/aligned_pins_dataset/'\n",
    "emb_save_path = './embeddings/'\n",
    "if not os.path.isdir(emb_save_path):\n",
    "    os.makedirs(emb_save_path)\n",
    "celeb_dict = generate_images_classes(aligned_pins)\n",
    "ori_celeb_dict = generate_images_classes(pins)"
   ]
  },
  {
   "cell_type": "code",
   "execution_count": 28,
   "id": "057c62b8-7128-4e31-afc0-4eb79f7c4a6f",
   "metadata": {},
   "outputs": [
    {
     "data": {
      "text/plain": [
       "<All keys matched successfully>"
      ]
     },
     "execution_count": 28,
     "metadata": {},
     "output_type": "execute_result"
    }
   ],
   "source": [
    "net = sphere(feature=True)\n",
    "net.load_state_dict(torch.load('./sphereface/model/sphere.pth'))"
   ]
  },
  {
   "cell_type": "markdown",
   "id": "b3a1007c-fd80-4c3a-9e7d-20faf213187f",
   "metadata": {
    "jp-MarkdownHeadingCollapsed": true,
    "tags": []
   },
   "source": [
    "### Generate Sphereface embddings"
   ]
  },
  {
   "cell_type": "code",
   "execution_count": 29,
   "id": "068dd83f-db04-403e-97b1-c5ab855977d9",
   "metadata": {
    "tags": []
   },
   "outputs": [
    {
     "name": "stderr",
     "output_type": "stream",
     "text": [
      "100%|████████████████████████████████████████████████████████████████████████████████| 105/105 [07:05<00:00,  4.06s/it]\n"
     ]
    },
    {
     "name": "stdout",
     "output_type": "stream",
     "text": [
      "call calculate_mean_embeddings in 0.014995098114013672s\n"
     ]
    }
   ],
   "source": [
    "model = 'sphereface'\n",
    "embedding_dict, image_dict = sphere_generate_image_embeddings(net, celeb_dict)\n",
    "# save image embeddings\n",
    "save_path = emb_save_path + model + '_aligned_emb_dict.pkl'\n",
    "f_write = open(save_path, 'wb')\n",
    "pickle.dump(embedding_dict, f_write)\n",
    "f_write.close()\n",
    "# test reading image embeddings\n",
    "f_read = open(save_path, 'rb')\n",
    "emb_dict = pickle.load(f_read)\n",
    "f_read.close()\n",
    "\n",
    "# save image embeddings\n",
    "save_path = emb_save_path + model + '_aligned_img_dict.pkl'\n",
    "f_write = open(save_path, 'wb')\n",
    "pickle.dump(image_dict, f_write)\n",
    "f_write.close()\n",
    "\n",
    "mean_emb_dict = calculate_mean_embeddings(emb_dict)\n",
    "save_path = emb_save_path + model + '_aligned_mean_emb_dict.pkl'\n",
    "\n",
    "f_write = open(save_path, 'wb')\n",
    "pickle.dump(mean_emb_dict, f_write)\n",
    "f_write.close()\n",
    "\n",
    "f_read = open(save_path, 'rb')\n",
    "mean_emb_dict = pickle.load(f_read)\n",
    "f_read.close()"
   ]
  },
  {
   "cell_type": "markdown",
   "id": "c395d2b0-8626-4c9f-8715-edab34d02dc7",
   "metadata": {
    "jp-MarkdownHeadingCollapsed": true,
    "tags": []
   },
   "source": [
    "### Test Sphere"
   ]
  },
  {
   "cell_type": "code",
   "execution_count": 30,
   "id": "8aa9e6b9-da35-4bb6-8844-b1a3b1e36ae9",
   "metadata": {},
   "outputs": [
    {
     "name": "stdout",
     "output_type": "stream",
     "text": [
      "17530\n"
     ]
    }
   ],
   "source": [
    "with open(emb_save_path+'sphereface_aligned_emb_dict.pkl', 'rb') as f:\n",
    "    emb_dict = pickle.load(f)\n",
    "\n",
    "X = []\n",
    "ori_y = []\n",
    "y = []\n",
    "\n",
    "for celeb in emb_dict:\n",
    "    embs = emb_dict[celeb]\n",
    "    for emb in embs:\n",
    "        X.append(emb)\n",
    "        ori_y.append(celeb)\n",
    "\n",
    "le = LabelEncoder()\n",
    "y = le.fit_transform(ori_y)\n",
    "print(len(y))\n",
    "X_train, X_test, y_train, y_test = train_test_split(X, y, train_size=0.8, random_state=42)"
   ]
  },
  {
   "cell_type": "code",
   "execution_count": 31,
   "id": "c77754f6-5634-4c5a-95c1-5568eef86344",
   "metadata": {
    "tags": []
   },
   "outputs": [
    {
     "name": "stdout",
     "output_type": "stream",
     "text": [
      "call calculate_mean_embeddings in 0.014992713928222656s\n"
     ]
    },
    {
     "name": "stderr",
     "output_type": "stream",
     "text": [
      "100%|█████████████████████████████████████████████████████████████████████████████| 3506/3506 [00:04<00:00, 848.57it/s]"
     ]
    },
    {
     "name": "stdout",
     "output_type": "stream",
     "text": [
      "call calculate_rec_acc in 4.1356141567230225s\n",
      "0.8394181403308614\n"
     ]
    },
    {
     "name": "stderr",
     "output_type": "stream",
     "text": [
      "\n"
     ]
    }
   ],
   "source": [
    "train_dict = OrderedDict()\n",
    "\n",
    "for i in range(len(y_train)):\n",
    "    if y_train[i] not in train_dict:\n",
    "        train_dict[y_train[i]] = []\n",
    "    train_dict[y_train[i]].append(X_train[i])\n",
    "\n",
    "train_mean_emb = calculate_mean_embeddings(train_dict)\n",
    "rec_acc = calculate_rec_acc(X_test, y_test, list(train_mean_emb.values()), list(train_mean_emb.keys()))\n",
    "print(rec_acc)\n",
    "# acc_dict['sphereface'] = rec_acc"
   ]
  },
  {
   "cell_type": "markdown",
   "id": "9ae617e0-e6c1-4530-9373-7392b2b4e5bd",
   "metadata": {
    "jp-MarkdownHeadingCollapsed": true,
    "tags": []
   },
   "source": [
    "### Impact of Face Alignment"
   ]
  },
  {
   "cell_type": "code",
   "execution_count": 6,
   "id": "b40d14cf-1bd5-48df-ad6d-d34bb240c4ed",
   "metadata": {},
   "outputs": [],
   "source": [
    "model = 'w600k_mbf.onnx'"
   ]
  },
  {
   "cell_type": "markdown",
   "id": "64d75464-acf6-4fe3-96c2-fb9b794dac27",
   "metadata": {},
   "source": [
    "#### original"
   ]
  },
  {
   "cell_type": "code",
   "execution_count": 8,
   "id": "15317df7-be9b-41fa-8129-652d29f70ce6",
   "metadata": {},
   "outputs": [
    {
     "name": "stdout",
     "output_type": "stream",
     "text": [
      "Applied providers: ['CUDAExecutionProvider', 'CPUExecutionProvider'], with options: {'CUDAExecutionProvider': {'do_copy_in_default_stream': '1', 'cudnn_conv_algo_search': 'EXHAUSTIVE', 'device_id': '0', 'gpu_external_alloc': '0', 'enable_cuda_graph': '0', 'gpu_mem_limit': '18446744073709551615', 'gpu_external_free': '0', 'gpu_external_empty_cache': '0', 'arena_extend_strategy': 'kNextPowerOfTwo', 'cudnn_conv_use_max_workspace': '0'}, 'CPUExecutionProvider': {}}\n"
     ]
    },
    {
     "name": "stderr",
     "output_type": "stream",
     "text": [
      "100%|████████████████████████████████████████████████████████████████████████████████| 105/105 [00:54<00:00,  1.94it/s]\n"
     ]
    },
    {
     "name": "stdout",
     "output_type": "stream",
     "text": [
      "call generate_image_embeddings_cuda in 54.26469111442566s\n",
      "call calculate_mean_embeddings in 0.01497793197631836s\n",
      "call calculate_mean_embeddings in 0.015989303588867188s\n"
     ]
    },
    {
     "name": "stderr",
     "output_type": "stream",
     "text": [
      "100%|█████████████████████████████████████████████████████████████████████████████| 3507/3507 [00:04<00:00, 843.50it/s]"
     ]
    },
    {
     "name": "stdout",
     "output_type": "stream",
     "text": [
      "call calculate_rec_acc in 4.162592887878418s\n",
      "0.9560878243512974\n"
     ]
    },
    {
     "name": "stderr",
     "output_type": "stream",
     "text": [
      "\n"
     ]
    }
   ],
   "source": [
    "aligned_pins = './research_data/105_classes_pins_dataset/'\n",
    "embedding_dict, image_dict = generate_image_embeddings_cuda(model, ori_celeb_dict)\n",
    "# save image embeddings\n",
    "save_path = emb_save_path + model + 'ori_emb_dict.pkl'\n",
    "f_write = open(save_path, 'wb')\n",
    "pickle.dump(embedding_dict, f_write)\n",
    "f_write.close()\n",
    "# test reading image embeddings\n",
    "f_read = open(save_path, 'rb')\n",
    "emb_dict = pickle.load(f_read)\n",
    "f_read.close()\n",
    "\n",
    "# save image embeddings\n",
    "save_path = emb_save_path + model + 'ori_img_dict.pkl'\n",
    "f_write = open(save_path, 'wb')\n",
    "pickle.dump(image_dict, f_write)\n",
    "f_write.close()\n",
    "\n",
    "mean_emb_dict = calculate_mean_embeddings(emb_dict)\n",
    "save_path = emb_save_path + model + 'ori_mean_emb_dict.pkl'\n",
    "\n",
    "f_write = open(save_path, 'wb')\n",
    "pickle.dump(mean_emb_dict, f_write)\n",
    "f_write.close()\n",
    "\n",
    "f_read = open(save_path, 'rb')\n",
    "mean_emb_dict = pickle.load(f_read)\n",
    "f_read.close()\n",
    "\n",
    "X = []\n",
    "ori_y = []\n",
    "y = []\n",
    "\n",
    "for celeb in emb_dict:\n",
    "    embs = emb_dict[celeb]\n",
    "    for emb in embs:\n",
    "        X.append(emb)\n",
    "        ori_y.append(celeb)\n",
    "\n",
    "le = LabelEncoder()\n",
    "y = le.fit_transform(ori_y)\n",
    "\n",
    "X_train, X_test, y_train, y_test = train_test_split(X, y, train_size=0.8, random_state=42)\n",
    "\n",
    "train_dict = OrderedDict()\n",
    "\n",
    "for i in range(len(y_train)):\n",
    "    if y_train[i] not in train_dict:\n",
    "        train_dict[y_train[i]] = []\n",
    "    train_dict[y_train[i]].append(X_train[i])\n",
    "\n",
    "train_mean_emb = calculate_mean_embeddings(train_dict)\n",
    "rec_acc = calculate_rec_acc(X_test, y_test, list(train_mean_emb.values()), list(train_mean_emb.keys()))\n",
    "print(rec_acc)\n",
    "# acc_dict['r50'] = rec_acc"
   ]
  },
  {
   "cell_type": "markdown",
   "id": "8cd5c467-8fab-46c5-8fdc-fbe6ea9ea6cc",
   "metadata": {
    "jp-MarkdownHeadingCollapsed": true,
    "tags": []
   },
   "source": [
    "#### Detected"
   ]
  },
  {
   "cell_type": "code",
   "execution_count": 12,
   "id": "8526d00e-c4a1-445a-b8aa-c3626e76f010",
   "metadata": {},
   "outputs": [
    {
     "name": "stdout",
     "output_type": "stream",
     "text": [
      "Applied providers: ['CUDAExecutionProvider', 'CPUExecutionProvider'], with options: {'CUDAExecutionProvider': {'do_copy_in_default_stream': '1', 'cudnn_conv_algo_search': 'EXHAUSTIVE', 'device_id': '0', 'gpu_external_alloc': '0', 'enable_cuda_graph': '0', 'gpu_mem_limit': '18446744073709551615', 'gpu_external_free': '0', 'gpu_external_empty_cache': '0', 'arena_extend_strategy': 'kNextPowerOfTwo', 'cudnn_conv_use_max_workspace': '0'}, 'CPUExecutionProvider': {}}\n"
     ]
    },
    {
     "name": "stderr",
     "output_type": "stream",
     "text": [
      "100%|████████████████████████████████████████████████████████████████████████████████| 105/105 [01:43<00:00,  1.01it/s]\n"
     ]
    },
    {
     "name": "stdout",
     "output_type": "stream",
     "text": [
      "call generate_image_embeddings_cuda in 105.96103596687317s\n",
      "call calculate_mean_embeddings in 0.0159912109375s\n"
     ]
    }
   ],
   "source": [
    "aligned_pins = './research_data/dbface_detected/'\n",
    "embedding_dict, image_dict = generate_image_embeddings_cuda(model, celeb_dict)\n",
    "# save image embeddings\n",
    "save_path = emb_save_path + model + 'det_emb_dict.pkl'\n",
    "f_write = open(save_path, 'wb')\n",
    "pickle.dump(embedding_dict, f_write)\n",
    "f_write.close()\n",
    "# test reading image embeddings\n",
    "f_read = open(save_path, 'rb')\n",
    "emb_dict = pickle.load(f_read)\n",
    "f_read.close()\n",
    "\n",
    "# save image embeddings\n",
    "save_path = emb_save_path + model + 'det_img_dict.pkl'\n",
    "f_write = open(save_path, 'wb')\n",
    "pickle.dump(image_dict, f_write)\n",
    "f_write.close()\n",
    "\n",
    "mean_emb_dict = calculate_mean_embeddings(emb_dict)\n",
    "save_path = emb_save_path + model + 'det_mean_emb_dict.pkl'\n",
    "\n",
    "f_write = open(save_path, 'wb')\n",
    "pickle.dump(mean_emb_dict, f_write)\n",
    "f_write.close()\n",
    "\n",
    "f_read = open(save_path, 'rb')\n",
    "mean_emb_dict = pickle.load(f_read)\n",
    "f_read.close()"
   ]
  },
  {
   "cell_type": "code",
   "execution_count": 13,
   "id": "a9ba0f8d-7343-4202-9c44-c454a18a445f",
   "metadata": {},
   "outputs": [
    {
     "name": "stdout",
     "output_type": "stream",
     "text": [
      "call calculate_mean_embeddings in 0.016991138458251953s\n"
     ]
    },
    {
     "name": "stderr",
     "output_type": "stream",
     "text": [
      "100%|█████████████████████████████████████████████████████████████████████████████| 3506/3506 [00:05<00:00, 663.51it/s]"
     ]
    },
    {
     "name": "stdout",
     "output_type": "stream",
     "text": [
      "call calculate_rec_acc in 5.286979913711548s\n",
      "0.8904734740444952\n"
     ]
    },
    {
     "name": "stderr",
     "output_type": "stream",
     "text": [
      "\n"
     ]
    }
   ],
   "source": [
    "with open(emb_save_path+'w600k_mbf.onnxdet_emb_dict.pkl', 'rb') as f:\n",
    "    emb_dict = pickle.load(f)\n",
    "\n",
    "X = []\n",
    "ori_y = []\n",
    "y = []\n",
    "\n",
    "for celeb in emb_dict:\n",
    "    embs = emb_dict[celeb]\n",
    "    for emb in embs:\n",
    "        X.append(emb)\n",
    "        ori_y.append(celeb)\n",
    "\n",
    "le = LabelEncoder()\n",
    "y = le.fit_transform(ori_y)\n",
    "\n",
    "X_train, X_test, y_train, y_test = train_test_split(X, y, train_size=0.8, random_state=42)\n",
    "\n",
    "train_dict = OrderedDict()\n",
    "\n",
    "for i in range(len(y_train)):\n",
    "    if y_train[i] not in train_dict:\n",
    "        train_dict[y_train[i]] = []\n",
    "    train_dict[y_train[i]].append(X_train[i])\n",
    "\n",
    "train_mean_emb = calculate_mean_embeddings(train_dict)\n",
    "rec_acc = calculate_rec_acc(X_test, y_test, list(train_mean_emb.values()), list(train_mean_emb.keys()))\n",
    "print(rec_acc)"
   ]
  },
  {
   "cell_type": "markdown",
   "id": "327166ac-e491-4115-846b-e36fd7cc7a26",
   "metadata": {
    "tags": []
   },
   "source": [
    "### Generate Arcface embddings"
   ]
  },
  {
   "cell_type": "code",
   "execution_count": 6,
   "id": "9e83a533-9b31-45d7-82be-8f7936101b9a",
   "metadata": {
    "tags": []
   },
   "outputs": [
    {
     "name": "stdout",
     "output_type": "stream",
     "text": [
      "Applied providers: ['CPUExecutionProvider'], with options: {'CPUExecutionProvider': {}}\n"
     ]
    },
    {
     "name": "stderr",
     "output_type": "stream",
     "text": [
      "100%|████████████████████████████████████████████████████████████████████████████████| 105/105 [04:04<00:00,  2.33s/it]\n"
     ]
    },
    {
     "name": "stdout",
     "output_type": "stream",
     "text": [
      "call generate_image_embeddings in 245.24570536613464s\n",
      "Applied providers: ['CPUExecutionProvider'], with options: {'CPUExecutionProvider': {}}\n"
     ]
    },
    {
     "name": "stderr",
     "output_type": "stream",
     "text": [
      "100%|████████████████████████████████████████████████████████████████████████████████| 105/105 [19:18<00:00, 11.04s/it]\n"
     ]
    },
    {
     "name": "stdout",
     "output_type": "stream",
     "text": [
      "call generate_image_embeddings in 1160.6035301685333s\n",
      "Applied providers: ['CPUExecutionProvider'], with options: {'CPUExecutionProvider': {}}\n"
     ]
    },
    {
     "name": "stderr",
     "output_type": "stream",
     "text": [
      "100%|██████████████████████████████████████████████████████████████████████████████| 105/105 [2:06:33<00:00, 72.32s/it]"
     ]
    },
    {
     "name": "stdout",
     "output_type": "stream",
     "text": [
      "call generate_image_embeddings in 7596.079213619232s\n"
     ]
    },
    {
     "name": "stderr",
     "output_type": "stream",
     "text": [
      "\n"
     ]
    }
   ],
   "source": [
    "aligned_pins = './research_data/aligned_pins_dataset/'\n",
    "for model in models:\n",
    "    embedding_dict, image_dict = generate_image_embeddings(model, celeb_dict)\n",
    "    # save image embeddings\n",
    "#     save_path = emb_save_path + model + '_aligned_emb_dict.pkl'\n",
    "#     f_write = open(save_path, 'wb')\n",
    "#     pickle.dump(embedding_dict, f_write)\n",
    "#     f_write.close()\n",
    "#     # test reading image embeddings\n",
    "#     f_read = open(save_path, 'rb')\n",
    "#     emb_dict = pickle.load(f_read)\n",
    "#     f_read.close()\n",
    "\n",
    "#     # save image embeddings\n",
    "#     save_path = emb_save_path + model + '_aligned_img_dict.pkl'\n",
    "#     f_write = open(save_path, 'wb')\n",
    "#     pickle.dump(image_dict, f_write)\n",
    "#     f_write.close()\n",
    "\n",
    "#     mean_emb_dict = calculate_mean_embeddings(emb_dict)\n",
    "#     save_path = emb_save_path + model + '_aligned_mean_emb_dict.pkl'\n",
    "\n",
    "#     f_write = open(save_path, 'wb')\n",
    "#     pickle.dump(mean_emb_dict, f_write)\n",
    "#     f_write.close()\n",
    "\n",
    "#     f_read = open(save_path, 'rb')\n",
    "#     mean_emb_dict = pickle.load(f_read)\n",
    "#     f_read.close()"
   ]
  },
  {
   "cell_type": "code",
   "execution_count": 7,
   "id": "0f83882f-a54c-4c75-9208-453a769e5bc3",
   "metadata": {},
   "outputs": [],
   "source": [
    "acc_dict = {}"
   ]
  },
  {
   "cell_type": "markdown",
   "id": "15289b92-bebe-4581-ae56-e94f2003645a",
   "metadata": {
    "tags": []
   },
   "source": [
    "### test r50"
   ]
  },
  {
   "cell_type": "code",
   "execution_count": 6,
   "id": "3053adbe-fbdf-470c-9ccb-6122e0de1f2f",
   "metadata": {},
   "outputs": [],
   "source": [
    "with open(emb_save_path+'w600k_r50.onnx_aligned_emb_dict.pkl', 'rb') as f:\n",
    "    emb_dict = pickle.load(f)\n",
    "\n",
    "X = []\n",
    "ori_y = []\n",
    "y = []\n",
    "\n",
    "for celeb in emb_dict:\n",
    "    embs = emb_dict[celeb]\n",
    "    for emb in embs:\n",
    "        X.append(emb)\n",
    "        ori_y.append(celeb)\n",
    "\n",
    "le = LabelEncoder()\n",
    "y = le.fit_transform(ori_y)\n",
    "\n",
    "X_train, X_test, y_train, y_test = train_test_split(X, y, train_size=0.8, random_state=42)"
   ]
  },
  {
   "cell_type": "markdown",
   "id": "c26e1829-8aae-437c-a481-b68e9a480ffc",
   "metadata": {},
   "source": [
    "#### Visualization"
   ]
  },
  {
   "cell_type": "code",
   "execution_count": 10,
   "id": "fe5aee26-c2c1-479b-87c3-0be095d47736",
   "metadata": {},
   "outputs": [
    {
     "name": "stderr",
     "output_type": "stream",
     "text": [
      "C:\\Users\\trist\\anaconda3\\envs\\Pytorch\\lib\\site-packages\\sklearn\\manifold\\_t_sne.py:790: FutureWarning: The default learning rate in TSNE will change from 200.0 to 'auto' in 1.2.\n",
      "  warnings.warn(\n",
      "C:\\Users\\trist\\anaconda3\\envs\\Pytorch\\lib\\site-packages\\sklearn\\manifold\\_t_sne.py:982: FutureWarning: The PCA initialization in TSNE will change to have the standard deviation of PC1 equal to 1e-4 in 1.2. This will ensure better convergence.\n",
      "  warnings.warn(\n"
     ]
    },
    {
     "data": {
      "image/png": "[encoded data removed]",
      "text/plain": [
       "<Figure size 1440x1440 with 1 Axes>"
      ]
     },
     "metadata": {
      "needs_background": "light"
     },
     "output_type": "display_data"
    }
   ],
   "source": [
    "def plot_with_labels(lowDWeights, labels):\n",
    "    plt.cla()\n",
    "    X, Y = lowDWeights[:, 0], lowDWeights[:, 1]\n",
    "    for x, y, s in zip(X, Y, labels):\n",
    "        c = cm.rainbow(int(255 * s / 9)); plt.text(x, y, s, backgroundcolor=c, fontsize=9)\n",
    "    plt.axis('off')\n",
    "    plt.xlim(X.min(), X.max()); plt.ylim(Y.min(), Y.max()); plt.title('12 Face Clusters Visualisation',fontsize=20); plt.show(); plt.pause(0.01)\n",
    "\n",
    "plt.rcParams['figure.figsize'] = (20,20)\n",
    "tsne = TSNE(perplexity=30, n_components=2, init='pca', n_iter=5000, random_state=100)\n",
    "plot_only = 2000\n",
    "low_dim_embs = tsne.fit_transform(X[:plot_only])\n",
    "labels = y[:plot_only]\n",
    "plot_with_labels(low_dim_embs, labels)"
   ]
  },
  {
   "cell_type": "code",
   "execution_count": 17,
   "id": "8a6259b8-8e04-4ed7-893b-fdc9c920a4cb",
   "metadata": {},
   "outputs": [
    {
     "name": "stdout",
     "output_type": "stream",
     "text": [
      "train size: 14024\n",
      "test size: 3506\n"
     ]
    }
   ],
   "source": [
    "print('train size: {}\\ntest size: {}'.format(len(X_train), len(X_test)))"
   ]
  },
  {
   "cell_type": "code",
   "execution_count": 18,
   "id": "b19a4ee2-2600-4f59-a3dc-6291e2a7ca20",
   "metadata": {},
   "outputs": [
    {
     "data": {
      "text/plain": [
       "(14024, 512)"
      ]
     },
     "execution_count": 18,
     "metadata": {},
     "output_type": "execute_result"
    }
   ],
   "source": [
    "np.array(X_train).shape"
   ]
  },
  {
   "cell_type": "markdown",
   "id": "f3a53d70-1db9-4dea-9a4a-eeecd69382ce",
   "metadata": {
    "tags": []
   },
   "source": [
    "#### KNN with Euclidean"
   ]
  },
  {
   "cell_type": "code",
   "execution_count": 7,
   "id": "6c35422b-07f6-42b1-95a5-cb0ec5471cdd",
   "metadata": {
    "tags": []
   },
   "outputs": [
    {
     "name": "stderr",
     "output_type": "stream",
     "text": [
      "100%|██████████████████████████████████████████████████████████████████████████████████| 96/96 [02:39<00:00,  1.66s/it]\n"
     ]
    },
    {
     "data": {
      "image/png": "[encoded data removed]",
      "text/plain": [
       "<Figure size 432x288 with 1 Axes>"
      ]
     },
     "metadata": {
      "needs_background": "light"
     },
     "output_type": "display_data"
    }
   ],
   "source": [
    "from sklearn.metrics import accuracy_score\n",
    "n = []\n",
    "acc = []\n",
    "for i in tqdm(range(5,101)):\n",
    "    n.append(i)\n",
    "    knn = KNN(n_neighbors=i,algorithm='brute')\n",
    "    knn.fit(X_train,y_train)\n",
    "    predictions = knn.predict(X_test)\n",
    "    acc.append(accuracy_score(predictions,y_test))\n",
    "\n",
    "plt.plot(n,acc,lw=3)\n",
    "plt.xlabel('Number of Neighbours',fontsize=10)\n",
    "plt.ylabel('Accuracy',fontsize=10)\n",
    "# plt.legend(loc='best', fontsize=30)\n",
    "plt.title('Accuracy on Testing Dataset (Euclidean Distance)',fontsize=10)\n",
    "plt.show()"
   ]
  },
  {
   "cell_type": "code",
   "execution_count": 20,
   "id": "6aa26953-7c07-4993-a639-4177a5af26ee",
   "metadata": {},
   "outputs": [],
   "source": [
    "max_score = max(acc)\n",
    "max_n = n[np.argmax(np.array(acc))]"
   ]
  },
  {
   "cell_type": "code",
   "execution_count": 21,
   "id": "bf1a2f6c-6bf3-4a0a-9dbe-93175ba218e6",
   "metadata": {},
   "outputs": [
    {
     "name": "stdout",
     "output_type": "stream",
     "text": [
      "max accuracy is 0.9997147746719909 with 18 neighbours\n"
     ]
    }
   ],
   "source": [
    "print('max accuracy is {} with {} neighbours'.format(max_score,max_n))"
   ]
  },
  {
   "cell_type": "code",
   "execution_count": 22,
   "id": "0212e541-8e63-4333-8abf-f71bbaec562d",
   "metadata": {
    "collapsed": true,
    "jupyter": {
     "outputs_hidden": true
    },
    "tags": []
   },
   "outputs": [
    {
     "name": "stdout",
     "output_type": "stream",
     "text": [
      "max neighbors\n",
      "18\n",
      "36\n",
      "37\n",
      "38\n",
      "39\n",
      "40\n",
      "41\n",
      "42\n",
      "43\n",
      "44\n",
      "45\n",
      "46\n",
      "47\n",
      "48\n",
      "49\n",
      "50\n",
      "51\n",
      "52\n",
      "53\n",
      "54\n",
      "55\n",
      "56\n",
      "57\n",
      "58\n",
      "59\n",
      "60\n",
      "61\n",
      "62\n",
      "63\n",
      "64\n",
      "65\n",
      "66\n",
      "67\n",
      "68\n",
      "69\n",
      "70\n",
      "71\n",
      "72\n",
      "73\n",
      "74\n",
      "75\n",
      "76\n",
      "77\n",
      "78\n",
      "79\n",
      "80\n",
      "81\n",
      "82\n",
      "83\n",
      "84\n",
      "85\n",
      "86\n",
      "87\n",
      "88\n",
      "89\n",
      "90\n",
      "91\n",
      "92\n",
      "93\n",
      "94\n",
      "95\n",
      "96\n",
      "97\n",
      "98\n",
      "99\n",
      "100\n"
     ]
    }
   ],
   "source": [
    "print('max neighbors')\n",
    "for i in range(len(acc)):\n",
    "    if acc[i] == max_score:\n",
    "        print(n[i])"
   ]
  },
  {
   "cell_type": "markdown",
   "id": "3f15dbd5-d90d-4e86-af51-2fa39a85195d",
   "metadata": {},
   "source": [
    "#### KNN with cosine distance"
   ]
  },
  {
   "cell_type": "code",
   "execution_count": 8,
   "id": "d8cff3fc-5200-4e12-b124-4cceb78623b9",
   "metadata": {},
   "outputs": [
    {
     "name": "stderr",
     "output_type": "stream",
     "text": [
      "100%|██████████████████████████████████████████████████████████████████████████████████| 96/96 [01:55<00:00,  1.21s/it]\n"
     ]
    },
    {
     "data": {
      "text/plain": [
       "Text(0.5, 1.0, 'Accuracy on Testing Dataset (Cosine Distance)')"
      ]
     },
     "execution_count": 8,
     "metadata": {},
     "output_type": "execute_result"
    },
    {
     "data": {
      "image/png": "[encoded data removed]",
      "text/plain": [
       "<Figure size 432x288 with 1 Axes>"
      ]
     },
     "metadata": {
      "needs_background": "light"
     },
     "output_type": "display_data"
    }
   ],
   "source": [
    "n = []\n",
    "acc = []\n",
    "X_train = normalize(X_train)\n",
    "X_test = normalize(X_test)\n",
    "for i in tqdm(range(5,101)):\n",
    "    n.append(i)\n",
    "    knn = KNN(n_neighbors=i,algorithm='brute')\n",
    "    knn.fit(X_train,y_train)\n",
    "    predictions = knn.predict(X_test)\n",
    "    acc.append(accuracy_score(predictions,y_test))\n",
    "\n",
    "plt.plot(n,acc,lw=3)\n",
    "plt.xlabel('Number of Neighbours',fontsize=10)\n",
    "plt.ylabel('Accuracy',fontsize=10)\n",
    "# plt.legend(loc='best', fontsize=30)\n",
    "plt.title('Accuracy on Testing Dataset (Cosine Distance)',fontsize=10)"
   ]
  },
  {
   "cell_type": "code",
   "execution_count": 24,
   "id": "0283b337-05cf-4b74-8536-74f80e8db7dd",
   "metadata": {},
   "outputs": [],
   "source": [
    "max_score = max(acc)\n",
    "max_n = n[np.argmax(np.array(acc))]"
   ]
  },
  {
   "cell_type": "code",
   "execution_count": 25,
   "id": "816944eb-e3d4-49b7-b4ef-ae6246e23b0a",
   "metadata": {},
   "outputs": [
    {
     "name": "stdout",
     "output_type": "stream",
     "text": [
      "max accuracy is 1.0 with 13 neighbours\n"
     ]
    }
   ],
   "source": [
    "print('max accuracy is {} with {} neighbours'.format(max_score,max_n))"
   ]
  },
  {
   "cell_type": "code",
   "execution_count": 26,
   "id": "bea67be0-540b-43cc-9f30-929205f08527",
   "metadata": {
    "collapsed": true,
    "jupyter": {
     "outputs_hidden": true
    },
    "tags": []
   },
   "outputs": [
    {
     "name": "stdout",
     "output_type": "stream",
     "text": [
      "max neighbors\n",
      "13\n",
      "14\n",
      "15\n",
      "16\n",
      "17\n",
      "18\n",
      "19\n",
      "20\n",
      "21\n",
      "22\n",
      "23\n",
      "24\n",
      "25\n",
      "26\n",
      "27\n",
      "28\n",
      "29\n",
      "30\n",
      "31\n",
      "32\n",
      "33\n",
      "34\n",
      "35\n",
      "36\n",
      "37\n",
      "38\n",
      "39\n",
      "40\n",
      "41\n",
      "42\n",
      "43\n",
      "44\n",
      "45\n",
      "46\n",
      "47\n",
      "48\n",
      "49\n",
      "50\n",
      "51\n",
      "52\n",
      "53\n",
      "54\n",
      "55\n",
      "56\n",
      "57\n",
      "58\n",
      "59\n",
      "60\n",
      "61\n",
      "62\n",
      "63\n",
      "64\n",
      "65\n",
      "66\n",
      "67\n",
      "68\n",
      "69\n",
      "70\n",
      "71\n",
      "72\n",
      "73\n",
      "74\n",
      "75\n",
      "76\n",
      "77\n",
      "78\n",
      "79\n",
      "80\n",
      "81\n",
      "82\n",
      "83\n",
      "84\n",
      "85\n",
      "86\n",
      "87\n",
      "88\n",
      "89\n",
      "90\n",
      "91\n",
      "92\n",
      "93\n",
      "94\n",
      "95\n",
      "96\n",
      "97\n",
      "98\n",
      "99\n",
      "100\n"
     ]
    }
   ],
   "source": [
    "print('max neighbors')\n",
    "for i in range(len(acc)):\n",
    "    if acc[i] == max_score:\n",
    "        print(n[i])"
   ]
  },
  {
   "cell_type": "markdown",
   "id": "0836e260-8a67-4e68-ad81-effbda5dd7a0",
   "metadata": {},
   "source": [
    "#### Mean Cosine Similarity"
   ]
  },
  {
   "cell_type": "code",
   "execution_count": 27,
   "id": "e79f4b3c-a973-470f-b48e-d4bd382eafcd",
   "metadata": {},
   "outputs": [
    {
     "name": "stdout",
     "output_type": "stream",
     "text": [
      "call calculate_mean_embeddings in 0.027013301849365234s\n"
     ]
    },
    {
     "name": "stderr",
     "output_type": "stream",
     "text": [
      "100%|█████████████████████████████████████████████████████████████████████████████| 3506/3506 [00:04<00:00, 808.29it/s]"
     ]
    },
    {
     "name": "stdout",
     "output_type": "stream",
     "text": [
      "call calculate_rec_acc in 4.341520309448242s\n",
      "1.0\n"
     ]
    },
    {
     "name": "stderr",
     "output_type": "stream",
     "text": [
      "\n"
     ]
    }
   ],
   "source": [
    "train_dict = OrderedDict()\n",
    "\n",
    "for i in range(len(y_train)):\n",
    "    if y_train[i] not in train_dict:\n",
    "        train_dict[y_train[i]] = []\n",
    "    train_dict[y_train[i]].append(X_train[i])\n",
    "\n",
    "train_mean_emb = calculate_mean_embeddings(train_dict)\n",
    "rec_acc = calculate_rec_acc(X_test, y_test, list(train_mean_emb.values()), list(train_mean_emb.keys()))\n",
    "print(rec_acc)\n",
    "# acc_dict['r50'] = rec_acc"
   ]
  },
  {
   "cell_type": "code",
   "execution_count": 24,
   "id": "6cc21ba0-b849-411d-b6df-7567cb312c49",
   "metadata": {},
   "outputs": [],
   "source": [
    "means = np.array(list(train_mean_emb.values())).reshape((105,-1))"
   ]
  },
  {
   "cell_type": "code",
   "execution_count": 25,
   "id": "1bb12095-2263-4c9c-b558-a3064afe5b2a",
   "metadata": {},
   "outputs": [
    {
     "data": {
      "text/plain": [
       "GaussianMixture(means_init=array([[-0.528693  , -0.9543298 ,  0.8392538 , ..., -1.0304028 ,\n",
       "        -0.41887024, -0.24469292],\n",
       "       [ 0.06803945,  0.38304752,  0.02873698, ...,  0.32107487,\n",
       "         0.35550013,  0.25613979],\n",
       "       [-0.84135354, -0.68032926,  0.441792  , ..., -1.8515397 ,\n",
       "         0.25377873,  0.30589637],\n",
       "       ...,\n",
       "       [-1.0761424 ,  0.76805335,  0.19935416, ...,  0.837319  ,\n",
       "         0.38117006, -0.376701  ],\n",
       "       [-0.45461127,  0.740653  , -0.68264025, ..., -0.9953531 ,\n",
       "         0.7898969 ,  0.42014995],\n",
       "       [-0.6427291 ,  0.44590372, -0.26102456, ...,  0.8442205 ,\n",
       "         0.38531122,  0.54358923]], dtype=float32),\n",
       "                n_components=105, random_state=42)"
      ]
     },
     "execution_count": 25,
     "metadata": {},
     "output_type": "execute_result"
    }
   ],
   "source": [
    "from sklearn import mixture\n",
    "\n",
    "gmm = mixture.GaussianMixture(n_components=105, random_state=42, means_init=means)\n",
    "gmm.fit(X_train)"
   ]
  },
  {
   "cell_type": "code",
   "execution_count": 26,
   "id": "61ffd31a-3d84-4e0c-aafa-4c37624a503b",
   "metadata": {},
   "outputs": [],
   "source": [
    "pred = gmm.predict(X_test)"
   ]
  },
  {
   "cell_type": "code",
   "execution_count": 27,
   "id": "0b15352b-063a-4b16-8b5e-a9be68056aad",
   "metadata": {},
   "outputs": [
    {
     "name": "stdout",
     "output_type": "stream",
     "text": [
      "[32]\n",
      "0.00774526678141136\n"
     ]
    }
   ],
   "source": [
    "from sklearn.metrics import accuracy_score\n",
    "print(np.unique(pred))\n",
    "print(accuracy_score(pred, y_test))"
   ]
  },
  {
   "cell_type": "markdown",
   "id": "4dcfe11c-716a-492c-be75-42e27aa05146",
   "metadata": {},
   "source": [
    "### test mbf"
   ]
  },
  {
   "cell_type": "code",
   "execution_count": 13,
   "id": "39608cb7-2824-4f07-9aec-e646c8b03d53",
   "metadata": {},
   "outputs": [
    {
     "name": "stdout",
     "output_type": "stream",
     "text": [
      "call calculate_mean_embeddings in 0.014992713928222656s\n"
     ]
    },
    {
     "name": "stderr",
     "output_type": "stream",
     "text": [
      "100%|█████████████████████████████████████████████████████████████████████████████| 3506/3506 [00:04<00:00, 839.44it/s]"
     ]
    },
    {
     "name": "stdout",
     "output_type": "stream",
     "text": [
      "call calculate_rec_acc in 4.179585695266724s\n",
      "0.9925841414717627\n"
     ]
    },
    {
     "name": "stderr",
     "output_type": "stream",
     "text": [
      "\n"
     ]
    }
   ],
   "source": [
    "with open(emb_save_path+'w600k_mbf.onnx_aligned_emb_dict.pkl', 'rb') as f:\n",
    "    emb_dict = pickle.load(f)\n",
    "\n",
    "X = []\n",
    "ori_y = []\n",
    "y = []\n",
    "\n",
    "for celeb in emb_dict:\n",
    "    embs = emb_dict[celeb]\n",
    "    for emb in embs:\n",
    "        X.append(emb)\n",
    "        ori_y.append(celeb)\n",
    "\n",
    "le = LabelEncoder()\n",
    "y = le.fit_transform(ori_y)\n",
    "\n",
    "X_train, X_test, y_train, y_test = train_test_split(X, y, train_size=0.8, random_state=42)\n",
    "\n",
    "train_dict = OrderedDict()\n",
    "\n",
    "for i in range(len(y_train)):\n",
    "    if y_train[i] not in train_dict:\n",
    "        train_dict[y_train[i]] = []\n",
    "    train_dict[y_train[i]].append(X_train[i])\n",
    "\n",
    "train_mean_emb = calculate_mean_embeddings(train_dict)\n",
    "rec_acc = calculate_rec_acc(X_test, y_test, list(train_mean_emb.values()), list(train_mean_emb.keys()))\n",
    "print(rec_acc)\n",
    "# acc_dict['mbf'] = rec_acc"
   ]
  },
  {
   "cell_type": "markdown",
   "id": "941bdfe7-f111-4e00-b12c-f094750c11be",
   "metadata": {
    "tags": []
   },
   "source": [
    "### test r100"
   ]
  },
  {
   "cell_type": "code",
   "execution_count": 14,
   "id": "a3ba171e-af20-44dd-9761-74a9cbfca56a",
   "metadata": {},
   "outputs": [
    {
     "name": "stdout",
     "output_type": "stream",
     "text": [
      "call calculate_mean_embeddings in 0.01499176025390625s\n"
     ]
    },
    {
     "name": "stderr",
     "output_type": "stream",
     "text": [
      "100%|█████████████████████████████████████████████████████████████████████████████| 3506/3506 [00:04<00:00, 852.91it/s]"
     ]
    },
    {
     "name": "stdout",
     "output_type": "stream",
     "text": [
      "call calculate_rec_acc in 4.114650011062622s\n",
      "1.0\n"
     ]
    },
    {
     "name": "stderr",
     "output_type": "stream",
     "text": [
      "\n"
     ]
    }
   ],
   "source": [
    "with open(emb_save_path+'glintr100.onnx_aligned_emb_dict.pkl', 'rb') as f:\n",
    "    emb_dict = pickle.load(f)\n",
    "\n",
    "X = []\n",
    "ori_y = []\n",
    "y = []\n",
    "\n",
    "for celeb in emb_dict:\n",
    "    embs = emb_dict[celeb]\n",
    "    for emb in embs:\n",
    "        X.append(emb)\n",
    "        ori_y.append(celeb)\n",
    "\n",
    "le = LabelEncoder()\n",
    "y = le.fit_transform(ori_y)\n",
    "\n",
    "X_train, X_test, y_train, y_test = train_test_split(X, y, train_size=0.8, random_state=42)\n",
    "\n",
    "train_dict = OrderedDict()\n",
    "\n",
    "for i in range(len(y_train)):\n",
    "    if y_train[i] not in train_dict:\n",
    "        train_dict[y_train[i]] = []\n",
    "    train_dict[y_train[i]].append(X_train[i])\n",
    "\n",
    "train_mean_emb = calculate_mean_embeddings(train_dict)\n",
    "rec_acc = calculate_rec_acc(X_test, y_test, list(train_mean_emb.values()), list(train_mean_emb.keys()))\n",
    "print(rec_acc)\n",
    "# acc_dict['r100'] = rec_acc"
   ]
  },
  {
   "cell_type": "code",
   "execution_count": null,
   "id": "1ece68f0-508e-4f18-8e34-f1e302374824",
   "metadata": {},
   "outputs": [],
   "source": [
    "with open('acc_dict.pkl', 'wb') as f:\n",
    "    pickle.dump(acc_dict, f)"
   ]
  }
 ],
 "metadata": {
  "kernelspec": {
   "display_name": "Pytorch",
   "language": "python",
   "name": "pytorch"
  },
  "language_info": {
   "codemirror_mode": {
    "name": "ipython",
    "version": 3
   },
   "file_extension": ".py",
   "mimetype": "text/x-python",
   "name": "python",
   "nbconvert_exporter": "python",
   "pygments_lexer": "ipython3",
   "version": "3.8.12"
  }
 },
 "nbformat": 4,
 "nbformat_minor": 5
}
